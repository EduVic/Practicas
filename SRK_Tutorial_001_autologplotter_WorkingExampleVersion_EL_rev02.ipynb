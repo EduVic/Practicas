{
  "cells": [
    {
      "cell_type": "markdown",
      "metadata": {
        "id": "view-in-github",
        "colab_type": "text"
      },
      "source": [
        "<a href=\"https://colab.research.google.com/github/EduVic/Practicas/blob/main/SRK_Tutorial_001_autologplotter_WorkingExampleVersion_EL_rev02.ipynb\" target=\"_parent\"><img src=\"https://colab.research.google.com/assets/colab-badge.svg\" alt=\"Open In Colab\"/></a>"
      ]
    },
    {
      "cell_type": "markdown",
      "metadata": {
        "id": "N3AfDnuDejNL"
      },
      "source": [
        "A) Import libraries:"
      ]
    },
    {
      "cell_type": "code",
      "execution_count": 1,
      "metadata": {
        "id": "JlMocJF-ejNO"
      },
      "outputs": [],
      "source": [
        "import pandas as pd\n",
        "import numpy as np\n",
        "import matplotlib.pyplot as plt"
      ]
    },
    {
      "cell_type": "markdown",
      "metadata": {
        "id": "wrocWZARejNP"
      },
      "source": [
        "B) Import the .csv or .xlsx spreadsheet containing your logging data as the object 'rawdata' (the spreadsheet has to be IN THE SAME FOLDER as this Jupyter notebook). In this example the spreadsheet is a merged table between data logged by SRK and data from Leapfrog (e.g. cobalt and copper assays, RQD, interval selection on lithocodes):"
      ]
    },
    {
      "cell_type": "markdown",
      "metadata": {
        "id": "h4N63DpGejNP"
      },
      "source": [
        "    B.1) For .csv files, uncomment:"
      ]
    },
    {
      "cell_type": "code",
      "execution_count": null,
      "metadata": {
        "scrolled": false,
        "id": "fUEBKr2yejNQ"
      },
      "outputs": [],
      "source": [
        "#rawdata = pd.read_csv(\"SRK_Tutorial_001_Merged_Leapfrog_SRKlogging_data.csv\", encoding = 'utf8')"
      ]
    },
    {
      "cell_type": "markdown",
      "metadata": {
        "id": "V658OU70ejNQ"
      },
      "source": [
        "    B.2) For .xlsx files, uncomment:"
      ]
    },
    {
      "cell_type": "code",
      "execution_count": null,
      "metadata": {
        "id": "wi2pGPXMejNR"
      },
      "outputs": [],
      "source": [
        "rawdata = pd.read_excel(\"SRK_Tutorial_001_Merged_Leapfrog_SRKlogging_data.xlsx\")"
      ]
    },
    {
      "cell_type": "markdown",
      "metadata": {
        "id": "hCUw-r72ejNR"
      },
      "source": [
        "    B.3) Preview the first 5 lines from the object 'rawdata':"
      ]
    },
    {
      "cell_type": "code",
      "execution_count": null,
      "metadata": {
        "id": "NfxtS32vejNR",
        "outputId": "7d6f26a2-9685-4472-d8e4-59a749f7244e"
      },
      "outputs": [
        {
          "data": {
            "text/html": [
              "<div>\n",
              "<style scoped>\n",
              "    .dataframe tbody tr th:only-of-type {\n",
              "        vertical-align: middle;\n",
              "    }\n",
              "\n",
              "    .dataframe tbody tr th {\n",
              "        vertical-align: top;\n",
              "    }\n",
              "\n",
              "    .dataframe thead th {\n",
              "        text-align: right;\n",
              "    }\n",
              "</style>\n",
              "<table border=\"1\" class=\"dataframe\">\n",
              "  <thead>\n",
              "    <tr style=\"text-align: right;\">\n",
              "      <th></th>\n",
              "      <th>holeid</th>\n",
              "      <th>from</th>\n",
              "      <th>to</th>\n",
              "      <th>Alt1_Description</th>\n",
              "      <th>Alt1_Int</th>\n",
              "      <th>Colour_Description</th>\n",
              "      <th>Lith1_Description</th>\n",
              "      <th>Lith1_Grainsize</th>\n",
              "      <th>Lith1_Structure_Description</th>\n",
              "      <th>Lith1_Texture_Description</th>\n",
              "      <th>...</th>\n",
              "      <th>veining_abundance</th>\n",
              "      <th>associated_mineralogy</th>\n",
              "      <th>key_planar_structure</th>\n",
              "      <th>mineralized_planar_structure</th>\n",
              "      <th>orientation</th>\n",
              "      <th>planar_feature_note</th>\n",
              "      <th>planar_feature_photos</th>\n",
              "      <th>planar_feature_type</th>\n",
              "      <th>alpha</th>\n",
              "      <th>created_at</th>\n",
              "    </tr>\n",
              "  </thead>\n",
              "  <tbody>\n",
              "    <tr>\n",
              "      <th>0</th>\n",
              "      <td>MCD17001</td>\n",
              "      <td>0.00</td>\n",
              "      <td>4.25</td>\n",
              "      <td>NaN</td>\n",
              "      <td>NaN</td>\n",
              "      <td>NaN</td>\n",
              "      <td>Oal alluvium</td>\n",
              "      <td>NaN</td>\n",
              "      <td>NaN</td>\n",
              "      <td>Overburden, not included in core tray</td>\n",
              "      <td>...</td>\n",
              "      <td>NaN</td>\n",
              "      <td>NaN</td>\n",
              "      <td>NaN</td>\n",
              "      <td>NaN</td>\n",
              "      <td>NaN</td>\n",
              "      <td>NaN</td>\n",
              "      <td>NaN</td>\n",
              "      <td>NaN</td>\n",
              "      <td>NaN</td>\n",
              "      <td>NaT</td>\n",
              "    </tr>\n",
              "    <tr>\n",
              "      <th>1</th>\n",
              "      <td>MCD17001</td>\n",
              "      <td>4.25</td>\n",
              "      <td>4.50</td>\n",
              "      <td>Chlorite</td>\n",
              "      <td>v wk</td>\n",
              "      <td>Dark green to black</td>\n",
              "      <td>Vvm mafic volcanic</td>\n",
              "      <td>fg</td>\n",
              "      <td>Variably foliated with locally strong deformat...</td>\n",
              "      <td>Variable foliated and deformed (local strong z...</td>\n",
              "      <td>...</td>\n",
              "      <td>NaN</td>\n",
              "      <td>NaN</td>\n",
              "      <td>NaN</td>\n",
              "      <td>NaN</td>\n",
              "      <td>NaN</td>\n",
              "      <td>NaN</td>\n",
              "      <td>NaN</td>\n",
              "      <td>NaN</td>\n",
              "      <td>NaN</td>\n",
              "      <td>NaT</td>\n",
              "    </tr>\n",
              "    <tr>\n",
              "      <th>2</th>\n",
              "      <td>MCD17001</td>\n",
              "      <td>4.50</td>\n",
              "      <td>5.00</td>\n",
              "      <td>Chlorite</td>\n",
              "      <td>v wk</td>\n",
              "      <td>Dark green to black</td>\n",
              "      <td>Vvm mafic volcanic</td>\n",
              "      <td>fg</td>\n",
              "      <td>Variably foliated with locally strong deformat...</td>\n",
              "      <td>Variable foliated and deformed (local strong z...</td>\n",
              "      <td>...</td>\n",
              "      <td>NaN</td>\n",
              "      <td>NaN</td>\n",
              "      <td>NaN</td>\n",
              "      <td>NaN</td>\n",
              "      <td>NaN</td>\n",
              "      <td>NaN</td>\n",
              "      <td>NaN</td>\n",
              "      <td>NaN</td>\n",
              "      <td>NaN</td>\n",
              "      <td>NaT</td>\n",
              "    </tr>\n",
              "    <tr>\n",
              "      <th>3</th>\n",
              "      <td>MCD17001</td>\n",
              "      <td>5.00</td>\n",
              "      <td>6.00</td>\n",
              "      <td>Chlorite</td>\n",
              "      <td>v wk</td>\n",
              "      <td>Dark green to black</td>\n",
              "      <td>Vvm mafic volcanic</td>\n",
              "      <td>fg</td>\n",
              "      <td>Variably foliated with locally strong deformat...</td>\n",
              "      <td>Variable foliated and deformed (local strong z...</td>\n",
              "      <td>...</td>\n",
              "      <td>NaN</td>\n",
              "      <td>NaN</td>\n",
              "      <td>NaN</td>\n",
              "      <td>NaN</td>\n",
              "      <td>NaN</td>\n",
              "      <td>NaN</td>\n",
              "      <td>NaN</td>\n",
              "      <td>NaN</td>\n",
              "      <td>NaN</td>\n",
              "      <td>NaT</td>\n",
              "    </tr>\n",
              "    <tr>\n",
              "      <th>4</th>\n",
              "      <td>MCD17001</td>\n",
              "      <td>6.00</td>\n",
              "      <td>7.00</td>\n",
              "      <td>Chlorite</td>\n",
              "      <td>v wk</td>\n",
              "      <td>Dark green to black</td>\n",
              "      <td>Vvm mafic volcanic</td>\n",
              "      <td>fg</td>\n",
              "      <td>Variably foliated with locally strong deformat...</td>\n",
              "      <td>Variable foliated and deformed (local strong z...</td>\n",
              "      <td>...</td>\n",
              "      <td>NaN</td>\n",
              "      <td>NaN</td>\n",
              "      <td>NaN</td>\n",
              "      <td>NaN</td>\n",
              "      <td>NaN</td>\n",
              "      <td>NaN</td>\n",
              "      <td>NaN</td>\n",
              "      <td>NaN</td>\n",
              "      <td>NaN</td>\n",
              "      <td>NaT</td>\n",
              "    </tr>\n",
              "  </tbody>\n",
              "</table>\n",
              "<p>5 rows × 47 columns</p>\n",
              "</div>"
            ],
            "text/plain": [
              "     holeid  from    to Alt1_Description Alt1_Int   Colour_Description  \\\n",
              "0  MCD17001  0.00  4.25              NaN      NaN                  NaN   \n",
              "1  MCD17001  4.25  4.50         Chlorite     v wk  Dark green to black   \n",
              "2  MCD17001  4.50  5.00         Chlorite     v wk  Dark green to black   \n",
              "3  MCD17001  5.00  6.00         Chlorite     v wk  Dark green to black   \n",
              "4  MCD17001  6.00  7.00         Chlorite     v wk  Dark green to black   \n",
              "\n",
              "    Lith1_Description Lith1_Grainsize  \\\n",
              "0        Oal alluvium             NaN   \n",
              "1  Vvm mafic volcanic              fg   \n",
              "2  Vvm mafic volcanic              fg   \n",
              "3  Vvm mafic volcanic              fg   \n",
              "4  Vvm mafic volcanic              fg   \n",
              "\n",
              "                         Lith1_Structure_Description  \\\n",
              "0                                                NaN   \n",
              "1  Variably foliated with locally strong deformat...   \n",
              "2  Variably foliated with locally strong deformat...   \n",
              "3  Variably foliated with locally strong deformat...   \n",
              "4  Variably foliated with locally strong deformat...   \n",
              "\n",
              "                           Lith1_Texture_Description     ...      \\\n",
              "0              Overburden, not included in core tray     ...       \n",
              "1  Variable foliated and deformed (local strong z...     ...       \n",
              "2  Variable foliated and deformed (local strong z...     ...       \n",
              "3  Variable foliated and deformed (local strong z...     ...       \n",
              "4  Variable foliated and deformed (local strong z...     ...       \n",
              "\n",
              "  veining_abundance associated_mineralogy key_planar_structure  \\\n",
              "0               NaN                   NaN                  NaN   \n",
              "1               NaN                   NaN                  NaN   \n",
              "2               NaN                   NaN                  NaN   \n",
              "3               NaN                   NaN                  NaN   \n",
              "4               NaN                   NaN                  NaN   \n",
              "\n",
              "   mineralized_planar_structure  orientation planar_feature_note  \\\n",
              "0                           NaN          NaN                 NaN   \n",
              "1                           NaN          NaN                 NaN   \n",
              "2                           NaN          NaN                 NaN   \n",
              "3                           NaN          NaN                 NaN   \n",
              "4                           NaN          NaN                 NaN   \n",
              "\n",
              "   planar_feature_photos  planar_feature_type  alpha  created_at  \n",
              "0                    NaN                  NaN    NaN         NaT  \n",
              "1                    NaN                  NaN    NaN         NaT  \n",
              "2                    NaN                  NaN    NaN         NaT  \n",
              "3                    NaN                  NaN    NaN         NaT  \n",
              "4                    NaN                  NaN    NaN         NaT  \n",
              "\n",
              "[5 rows x 47 columns]"
            ]
          },
          "execution_count": 7,
          "metadata": {},
          "output_type": "execute_result"
        }
      ],
      "source": [
        "rawdata.head()"
      ]
    },
    {
      "cell_type": "markdown",
      "metadata": {
        "id": "7b2dKtsuejNT"
      },
      "source": [
        "C) Display the name and data type for each column of the imported table called 'rawdata' (later used for selecting which column to select for the graphical log):"
      ]
    },
    {
      "cell_type": "code",
      "execution_count": null,
      "metadata": {
        "scrolled": true,
        "id": "EID5rgDWejNT",
        "outputId": "6cffb53a-d6e3-4cd1-fa76-74f16bd922cb"
      },
      "outputs": [
        {
          "name": "stdout",
          "output_type": "stream",
          "text": [
            "holeid                                   object\n",
            "from                                    float64\n",
            "to                                      float64\n",
            "Alt1_Description                         object\n",
            "Alt1_Int                                 object\n",
            "Colour_Description                       object\n",
            "Lith1_Description                        object\n",
            "Lith1_Grainsize                          object\n",
            "Lith1_Structure_Description              object\n",
            "Lith1_Texture_Description                object\n",
            "Min_Composition                          object\n",
            "Vein1                                    object\n",
            "Vein1_Description                        object\n",
            "Min1_Pct                                float64\n",
            "Vein1_Pct                               float64\n",
            "SAMPLE_NUM                               object\n",
            "AG                                      float64\n",
            "AS                                      float64\n",
            "AU                                      float64\n",
            "CO                                      float64\n",
            "CU                                      float64\n",
            "NI                                      float64\n",
            "PB                                      float64\n",
            "ZN                                      float64\n",
            "SRK_litho_interval_selection             object\n",
            "RQD_pc                                  float64\n",
            "alteration                               object\n",
            "key_interval                             object\n",
            "lithology                                object\n",
            "mineralized                              object\n",
            "notes_general                            object\n",
            "photos_general                           object\n",
            "brittle_deformation_intensity           float64\n",
            "ductile_deformation_intensity           float64\n",
            "global_alteration_intensity             float64\n",
            "number_of_structural_data               float64\n",
            "sulphide_abundance                      float64\n",
            "veining_abundance                       float64\n",
            "associated_mineralogy                    object\n",
            "key_planar_structure                     object\n",
            "mineralized_planar_structure             object\n",
            "orientation                              object\n",
            "planar_feature_note                      object\n",
            "planar_feature_photos                    object\n",
            "planar_feature_type                      object\n",
            "alpha                                   float64\n",
            "created_at                       datetime64[ns]\n",
            "dtype: object\n"
          ]
        }
      ],
      "source": [
        "print(rawdata.dtypes)"
      ]
    },
    {
      "cell_type": "markdown",
      "metadata": {
        "id": "S9p7pjBcejNT"
      },
      "source": [
        "D) Display all unique values in the column 'SRK_litho_interval_selection' from the object 'rawdata' (used later for attributing numerical values to each lithology and plotting them):"
      ]
    },
    {
      "cell_type": "code",
      "execution_count": null,
      "metadata": {
        "scrolled": true,
        "id": "tgWlxiNIejNU",
        "outputId": "b8bef71c-559d-4ed3-ba9b-6a06d5623a13"
      },
      "outputs": [
        {
          "data": {
            "text/plain": [
              "array(['Overburden', 'Mafic volcanic', 'Inferred_olive-green_dyke_03',\n",
              "       'Metased_01', 'Magnetic_dyke_02', 'Olive-green dyke', 'Metased_04',\n",
              "       nan, 'Inferred_olive-green_dyke_01', 'Metasedimentary rocks',\n",
              "       'Magnetic_Dyke_01', 'Fault', 'Inferred_olive-green_dyke_02',\n",
              "       'Felsic intrusive', 'Massive sulphides', 'Fld-porphyry',\n",
              "       'Metased_05', 'Metased_03', 'Metaseds_lowconfidence_03',\n",
              "       'Metaseds_lowconfidence_01'], dtype=object)"
            ]
          },
          "execution_count": 9,
          "metadata": {},
          "output_type": "execute_result"
        }
      ],
      "source": [
        "rawdata['SRK_litho_interval_selection'].unique()"
      ]
    },
    {
      "cell_type": "markdown",
      "metadata": {
        "id": "oHKq0_VXejNU"
      },
      "source": [
        "E) Create a new column 'SRK_Leapfrog_litho' and attribute a numerical value to the lithologies you want to display on the final graphical log:"
      ]
    },
    {
      "cell_type": "markdown",
      "metadata": {
        "id": "LH59PIVlejNU"
      },
      "source": [
        "    E.1) Copy the column 'SRK_litho_interval_selection' from the object 'rawdata' to a new column called 'SRK_logging_litho':"
      ]
    },
    {
      "cell_type": "code",
      "execution_count": null,
      "metadata": {
        "id": "DbpKCb-rejNV"
      },
      "outputs": [],
      "source": [
        "rawdata['SRK_Leapfrog_litho'] = rawdata['SRK_litho_interval_selection']"
      ]
    },
    {
      "cell_type": "markdown",
      "metadata": {
        "id": "iXxCl9wIejNV"
      },
      "source": [
        "    E.2) Replace the content of column 'SRK_Leapfrog_litho' by attributing an arbitrary numerical value based on the lithologies you want to display. This step can also be used to simplify the 'SRK_litho_interval_selection' column by only selecting some lithologies or grouping lithologies together. For example below, all the lithocodes for olive_green_dyke are merged into group 6. The group -1 is reserved for missing data (NaN) or lithocodes that you did not select.\n",
        "\n",
        "    Note the content of the if/elif loops below versus the indidual lithocodes above: 'Metased_05' and 'Metaseds_lowconfidence_03' are both grouped into group 2. Also remember that the code is read from top to bottom, so if a cell in column 'SRK_litho_interval_selection' contains both 'Mafic volcanic' and 'Fault', the content of this cell will first be replaced by the number 10 and will not be attributed the value 1 from 'Mafic volcanic'. This is however based on the way I personnaly log and you can modify as needed:"
      ]
    },
    {
      "cell_type": "code",
      "execution_count": null,
      "metadata": {
        "id": "PyGchxkOejNV"
      },
      "outputs": [],
      "source": [
        "for index,value in rawdata['SRK_Leapfrog_litho'].iteritems():\n",
        "    if value is not np.nan:\n",
        "\n",
        "        if 'Overburden' in value:\n",
        "            rawdata.at[index, 'SRK_Leapfrog_litho'] = '12'\n",
        "\n",
        "        elif 'Fault' in value:\n",
        "            rawdata.at[index, 'SRK_Leapfrog_litho'] = '10'\n",
        "\n",
        "        elif 'Magnetic_' in value:\n",
        "            rawdata.at[index, 'SRK_Leapfrog_litho'] = '9'\n",
        "\n",
        "        elif 'Felsic intrusive' in value:\n",
        "            rawdata.at[index, 'SRK_Leapfrog_litho'] = '8'\n",
        "\n",
        "        elif 'Fld-porphyry' in value:\n",
        "            rawdata.at[index, 'SRK_Leapfrog_litho'] = '7'\n",
        "\n",
        "        elif 'live-green' in value:\n",
        "            rawdata.at[index, 'SRK_Leapfrog_litho'] = '6'\n",
        "\n",
        "        elif 'Massive sulphides' in value:\n",
        "            rawdata.at[index, 'SRK_Leapfrog_litho'] = '3'\n",
        "\n",
        "        elif 'Metased' in value:\n",
        "            rawdata.at[index, 'SRK_Leapfrog_litho'] = '2'\n",
        "\n",
        "        elif 'Mafic volcanic' in value:\n",
        "            rawdata.at[index, 'SRK_Leapfrog_litho'] = '1'\n",
        "\n",
        "        else:\n",
        "            rawdata.at[index, 'SRK_Leapfrog_litho'] = '-1'\n",
        "    else:\n",
        "        rawdata.at[index, 'SRK_Leapfrog_litho'] = '-1'"
      ]
    },
    {
      "cell_type": "markdown",
      "metadata": {
        "id": "UVphLwXxejNV"
      },
      "source": [
        "F) Display all unique values in the column 'lithology' from the object 'rawdata':"
      ]
    },
    {
      "cell_type": "code",
      "execution_count": null,
      "metadata": {
        "id": "lfFjz7ZQejNV",
        "outputId": "29de4231-adb8-4f91-8540-b5cc5c51e708"
      },
      "outputs": [
        {
          "data": {
            "text/plain": [
              "array([nan, 'Mafic_volcanic_rock',\n",
              "       'Diabase_Dolerite,Grey-Green dyke,Mafic_intrusive_rock',\n",
              "       'Mafic_volcanic_rock,Mylonite_Shear_zone', 'Undif_vein',\n",
              "       'Shale,Undif_metasedimentary_rock',\n",
              "       'Sandstone,Undif_metasedimentary_rock',\n",
              "       'Cataclasite,Undif_metasedimentary_rock',\n",
              "       'Undif_metasedimentary_rock', 'Massive_sulphides',\n",
              "       'Cobaltite rich zone,Undif_metasedimentary_rock',\n",
              "       'Grey-Green dyke,Mafic_intrusive_rock', 'Mylonite_Shear_zone',\n",
              "       'Diabase_Dolerite,Mafic_intrusive_rock', 'Diabase_Dolerite',\n",
              "       'Cataclasite,Shale,Undif_metasedimentary_rock', 'Breccia_vein',\n",
              "       'Breccia_vein,Cataclasite',\n",
              "       'Breccia_vein,Cataclasite,Undif_metasedimentary_rock',\n",
              "       'Mafic_volcanic_rock,Undif_vein', 'Grey-brown mafic dyke',\n",
              "       'Grey-Brown mafic dyke,Mafic_volcanic_rock',\n",
              "       'Grey-Brown mafic dyke', 'Cataclasite', 'Grey-Green mafic dyke',\n",
              "       'Felsic_intrusive', 'Greywacke,Undif_metasedimentary_rock',\n",
              "       'Mafic_intrusive_rock,Mylonite_Shear_zone',\n",
              "       'Breccia_vein,Mafic_intrusive_rock',\n",
              "       'Cataclasite,Mafic_intrusive_rock', 'Shear_vein',\n",
              "       'Cataclasite,Mafic_volcanic_rock', 'Mafic_intrusive_rock,Porphyry',\n",
              "       'Felsic_intrusive,Orange-Pink porphyry',\n",
              "       'Semi-massive sulphides,Undif_metasedimentary_rock',\n",
              "       'Diabase_Dolerite,Grey-Green aplitic intrusive,Mafic_intrusive_rock',\n",
              "       'Cataclasite,Diabase_Dolerite,Grey-Green dyke,Mafic_intrusive_rock',\n",
              "       'Fault gouge,Undif_metasedimentary_rock',\n",
              "       'Conglomerate,Undif_metasedimentary_rock',\n",
              "       'Breccia_vein,Undif_metasedimentary_rock',\n",
              "       'Cataclasite,Diabase_Dolerite',\n",
              "       'Mafic_volcanic_rock,Sandstone,Undif_metasedimentary_rock'],\n",
              "      dtype=object)"
            ]
          },
          "execution_count": 12,
          "metadata": {},
          "output_type": "execute_result"
        }
      ],
      "source": [
        "rawdata['lithology'].unique()"
      ]
    },
    {
      "cell_type": "markdown",
      "metadata": {
        "id": "UqGgIeOqejNW"
      },
      "source": [
        "G) Create a new column 'SRK_logging_litho' and attribute a numerical value to the lithologies you want to display on the final graphical log:"
      ]
    },
    {
      "cell_type": "markdown",
      "metadata": {
        "id": "RhZM1DzRejNW"
      },
      "source": [
        "    G.1) Create a copy of column 'lithology' called 'SRK_logging_litho':"
      ]
    },
    {
      "cell_type": "code",
      "execution_count": null,
      "metadata": {
        "id": "BNimNc47ejNW"
      },
      "outputs": [],
      "source": [
        "rawdata['SRK_logging_litho'] = rawdata['lithology']"
      ]
    },
    {
      "cell_type": "markdown",
      "metadata": {
        "id": "hEoHa3G2ejNW"
      },
      "source": [
        "    G.2) Replace the content of column 'SRK_logging_litho' by attributing an arbitrary numerical value based on the lithologies you want to display. This step can also be used to simplify the content of the 'lithology' column by only selecting some lithologies or grouping lithologies together. For example below, 'Cataclasite' and 'Fault gouge' have been merged together in group 10:"
      ]
    },
    {
      "cell_type": "code",
      "execution_count": null,
      "metadata": {
        "scrolled": false,
        "id": "JPgA5ZDwejNW"
      },
      "outputs": [],
      "source": [
        "for index,value in rawdata['SRK_logging_litho'].iteritems():\n",
        "    if value is not np.nan:\n",
        "\n",
        "        if 'Breccia_vein' in value:\n",
        "            rawdata.at[index, 'SRK_logging_litho'] = '11'\n",
        "\n",
        "        elif 'Cataclasite' in value:\n",
        "            rawdata.at[index, 'SRK_logging_litho'] = '10'\n",
        "\n",
        "        elif 'Fault gouge' in value:\n",
        "            rawdata.at[index, 'SRK_logging_litho'] = '10'\n",
        "\n",
        "        elif 'Diabase_Dolerite' in value:\n",
        "            rawdata.at[index, 'SRK_logging_litho'] = '9'\n",
        "\n",
        "        elif 'dyke' in value:\n",
        "            rawdata.at[index, 'SRK_logging_litho'] = '5'\n",
        "\n",
        "        elif 'Felsic_intrusive' in value:\n",
        "            rawdata.at[index, 'SRK_logging_litho'] = '8'\n",
        "\n",
        "        elif 'Mylonite_Shear_zone' in value:\n",
        "            rawdata.at[index, 'SRK_logging_litho'] = '4'\n",
        "\n",
        "        elif 'Undif_metasedimentary_rock' in value:\n",
        "            rawdata.at[index, 'SRK_logging_litho'] = '2'\n",
        "\n",
        "        elif 'Mafic_volcanic_rock' in value:\n",
        "            rawdata.at[index, 'SRK_logging_litho'] = '1'\n",
        "\n",
        "        else:\n",
        "            rawdata.at[index, 'SRK_logging_litho'] = '-1'\n",
        "    else:\n",
        "        rawdata.at[index, 'SRK_logging_litho'] = '-1'"
      ]
    },
    {
      "cell_type": "markdown",
      "metadata": {
        "id": "Jt1dbMM_ejNW"
      },
      "source": [
        "H) Create a simplified table/object called 'data_check' from selected columns in object 'rawdata', this is only used to check the numerical coding of columns 'SRK_Leapfrog_litho' and 'SRK_logging_litho' worked:"
      ]
    },
    {
      "cell_type": "code",
      "execution_count": null,
      "metadata": {
        "scrolled": true,
        "id": "HjRwhTvUejNW"
      },
      "outputs": [],
      "source": [
        "data_check = rawdata.loc[:,['SRK_litho_interval_selection','SRK_Leapfrog_litho','lithology','SRK_logging_litho']]"
      ]
    },
    {
      "cell_type": "markdown",
      "metadata": {
        "id": "1uvZfIoKejNW"
      },
      "source": [
        "    H.1) Display a sample (5 records) from the table/object called 'data_check'. This is only used to check the numerical coding of columns 'SRK_Leapfrog_litho' and 'SRK_logging_litho' worked:"
      ]
    },
    {
      "cell_type": "code",
      "execution_count": null,
      "metadata": {
        "id": "I0zD6mMrejNW",
        "outputId": "dab57995-fd37-446c-b138-4e5013b60378"
      },
      "outputs": [
        {
          "data": {
            "text/html": [
              "<div>\n",
              "<style scoped>\n",
              "    .dataframe tbody tr th:only-of-type {\n",
              "        vertical-align: middle;\n",
              "    }\n",
              "\n",
              "    .dataframe tbody tr th {\n",
              "        vertical-align: top;\n",
              "    }\n",
              "\n",
              "    .dataframe thead th {\n",
              "        text-align: right;\n",
              "    }\n",
              "</style>\n",
              "<table border=\"1\" class=\"dataframe\">\n",
              "  <thead>\n",
              "    <tr style=\"text-align: right;\">\n",
              "      <th></th>\n",
              "      <th>SRK_litho_interval_selection</th>\n",
              "      <th>SRK_Leapfrog_litho</th>\n",
              "      <th>lithology</th>\n",
              "      <th>SRK_logging_litho</th>\n",
              "    </tr>\n",
              "  </thead>\n",
              "  <tbody>\n",
              "    <tr>\n",
              "      <th>5195</th>\n",
              "      <td>NaN</td>\n",
              "      <td>-1</td>\n",
              "      <td>NaN</td>\n",
              "      <td>-1</td>\n",
              "    </tr>\n",
              "    <tr>\n",
              "      <th>125</th>\n",
              "      <td>Magnetic_dyke_02</td>\n",
              "      <td>9</td>\n",
              "      <td>NaN</td>\n",
              "      <td>-1</td>\n",
              "    </tr>\n",
              "    <tr>\n",
              "      <th>9060</th>\n",
              "      <td>Mafic volcanic</td>\n",
              "      <td>1</td>\n",
              "      <td>NaN</td>\n",
              "      <td>-1</td>\n",
              "    </tr>\n",
              "    <tr>\n",
              "      <th>6890</th>\n",
              "      <td>Mafic volcanic</td>\n",
              "      <td>1</td>\n",
              "      <td>NaN</td>\n",
              "      <td>-1</td>\n",
              "    </tr>\n",
              "    <tr>\n",
              "      <th>2139</th>\n",
              "      <td>Inferred_olive-green_dyke_03</td>\n",
              "      <td>6</td>\n",
              "      <td>NaN</td>\n",
              "      <td>-1</td>\n",
              "    </tr>\n",
              "  </tbody>\n",
              "</table>\n",
              "</div>"
            ],
            "text/plain": [
              "      SRK_litho_interval_selection SRK_Leapfrog_litho lithology  \\\n",
              "5195                           NaN                 -1       NaN   \n",
              "125               Magnetic_dyke_02                  9       NaN   \n",
              "9060                Mafic volcanic                  1       NaN   \n",
              "6890                Mafic volcanic                  1       NaN   \n",
              "2139  Inferred_olive-green_dyke_03                  6       NaN   \n",
              "\n",
              "     SRK_logging_litho  \n",
              "5195                -1  \n",
              "125                 -1  \n",
              "9060                -1  \n",
              "6890                -1  \n",
              "2139                -1  "
            ]
          },
          "execution_count": 16,
          "metadata": {},
          "output_type": "execute_result"
        }
      ],
      "source": [
        "data_check.sample(5)"
      ]
    },
    {
      "cell_type": "markdown",
      "metadata": {
        "id": "3K1N1ywqejNW"
      },
      "source": [
        "I) Select the columns you want to plot from the table/object 'rawdata'. The data-subset/object created is called 'data_selected_raw'. It contains the column 'holeid', 'from', 'to', ...etc as well as the columns we created above 'SRK_Leapfrog_litho' and 'SRK_logging_litho':"
      ]
    },
    {
      "cell_type": "code",
      "execution_count": null,
      "metadata": {
        "scrolled": false,
        "id": "5_C4MNIAejNW",
        "outputId": "4ed9d32b-092c-4a33-b4bb-b37f2d971a42"
      },
      "outputs": [
        {
          "data": {
            "text/html": [
              "<div>\n",
              "<style scoped>\n",
              "    .dataframe tbody tr th:only-of-type {\n",
              "        vertical-align: middle;\n",
              "    }\n",
              "\n",
              "    .dataframe tbody tr th {\n",
              "        vertical-align: top;\n",
              "    }\n",
              "\n",
              "    .dataframe thead th {\n",
              "        text-align: right;\n",
              "    }\n",
              "</style>\n",
              "<table border=\"1\" class=\"dataframe\">\n",
              "  <thead>\n",
              "    <tr style=\"text-align: right;\">\n",
              "      <th></th>\n",
              "      <th>holeid</th>\n",
              "      <th>from</th>\n",
              "      <th>to</th>\n",
              "      <th>CO</th>\n",
              "      <th>SRK_Leapfrog_litho</th>\n",
              "      <th>SRK_logging_litho</th>\n",
              "      <th>RQD_pc</th>\n",
              "      <th>brittle_deformation_intensity</th>\n",
              "      <th>ductile_deformation_intensity</th>\n",
              "      <th>global_alteration_intensity</th>\n",
              "      <th>sulphide_abundance</th>\n",
              "      <th>veining_abundance</th>\n",
              "      <th>planar_feature_type</th>\n",
              "      <th>alpha</th>\n",
              "    </tr>\n",
              "  </thead>\n",
              "  <tbody>\n",
              "    <tr>\n",
              "      <th>5985</th>\n",
              "      <td>MCD18024</td>\n",
              "      <td>53.0</td>\n",
              "      <td>53.6</td>\n",
              "      <td>0.007</td>\n",
              "      <td>1</td>\n",
              "      <td>-1</td>\n",
              "      <td>83.34</td>\n",
              "      <td>NaN</td>\n",
              "      <td>NaN</td>\n",
              "      <td>NaN</td>\n",
              "      <td>NaN</td>\n",
              "      <td>NaN</td>\n",
              "      <td>NaN</td>\n",
              "      <td>NaN</td>\n",
              "    </tr>\n",
              "    <tr>\n",
              "      <th>7935</th>\n",
              "      <td>MCD18030</td>\n",
              "      <td>114.0</td>\n",
              "      <td>115.0</td>\n",
              "      <td>0.006</td>\n",
              "      <td>1</td>\n",
              "      <td>2</td>\n",
              "      <td>100.00</td>\n",
              "      <td>1.0</td>\n",
              "      <td>3.0</td>\n",
              "      <td>3.0</td>\n",
              "      <td>2.0</td>\n",
              "      <td>2.0</td>\n",
              "      <td>NaN</td>\n",
              "      <td>NaN</td>\n",
              "    </tr>\n",
              "    <tr>\n",
              "      <th>6379</th>\n",
              "      <td>MCD18024</td>\n",
              "      <td>390.0</td>\n",
              "      <td>391.0</td>\n",
              "      <td>0.005</td>\n",
              "      <td>1</td>\n",
              "      <td>-1</td>\n",
              "      <td>96.67</td>\n",
              "      <td>NaN</td>\n",
              "      <td>NaN</td>\n",
              "      <td>NaN</td>\n",
              "      <td>NaN</td>\n",
              "      <td>NaN</td>\n",
              "      <td>NaN</td>\n",
              "      <td>NaN</td>\n",
              "    </tr>\n",
              "    <tr>\n",
              "      <th>7898</th>\n",
              "      <td>MCD18030</td>\n",
              "      <td>85.0</td>\n",
              "      <td>86.0</td>\n",
              "      <td>0.007</td>\n",
              "      <td>1</td>\n",
              "      <td>-1</td>\n",
              "      <td>88.00</td>\n",
              "      <td>NaN</td>\n",
              "      <td>NaN</td>\n",
              "      <td>NaN</td>\n",
              "      <td>NaN</td>\n",
              "      <td>NaN</td>\n",
              "      <td>NaN</td>\n",
              "      <td>NaN</td>\n",
              "    </tr>\n",
              "    <tr>\n",
              "      <th>6762</th>\n",
              "      <td>MCD18025</td>\n",
              "      <td>212.4</td>\n",
              "      <td>213.0</td>\n",
              "      <td>0.005</td>\n",
              "      <td>1</td>\n",
              "      <td>-1</td>\n",
              "      <td>86.34</td>\n",
              "      <td>NaN</td>\n",
              "      <td>NaN</td>\n",
              "      <td>NaN</td>\n",
              "      <td>NaN</td>\n",
              "      <td>NaN</td>\n",
              "      <td>NaN</td>\n",
              "      <td>NaN</td>\n",
              "    </tr>\n",
              "  </tbody>\n",
              "</table>\n",
              "</div>"
            ],
            "text/plain": [
              "        holeid   from     to     CO SRK_Leapfrog_litho SRK_logging_litho  \\\n",
              "5985  MCD18024   53.0   53.6  0.007                  1                -1   \n",
              "7935  MCD18030  114.0  115.0  0.006                  1                 2   \n",
              "6379  MCD18024  390.0  391.0  0.005                  1                -1   \n",
              "7898  MCD18030   85.0   86.0  0.007                  1                -1   \n",
              "6762  MCD18025  212.4  213.0  0.005                  1                -1   \n",
              "\n",
              "      RQD_pc  brittle_deformation_intensity  ductile_deformation_intensity  \\\n",
              "5985   83.34                            NaN                            NaN   \n",
              "7935  100.00                            1.0                            3.0   \n",
              "6379   96.67                            NaN                            NaN   \n",
              "7898   88.00                            NaN                            NaN   \n",
              "6762   86.34                            NaN                            NaN   \n",
              "\n",
              "      global_alteration_intensity  sulphide_abundance  veining_abundance  \\\n",
              "5985                          NaN                 NaN                NaN   \n",
              "7935                          3.0                 2.0                2.0   \n",
              "6379                          NaN                 NaN                NaN   \n",
              "7898                          NaN                 NaN                NaN   \n",
              "6762                          NaN                 NaN                NaN   \n",
              "\n",
              "     planar_feature_type  alpha  \n",
              "5985                 NaN    NaN  \n",
              "7935                 NaN    NaN  \n",
              "6379                 NaN    NaN  \n",
              "7898                 NaN    NaN  \n",
              "6762                 NaN    NaN  "
            ]
          },
          "execution_count": 17,
          "metadata": {},
          "output_type": "execute_result"
        }
      ],
      "source": [
        "dataselected_raw = rawdata.loc[:,['holeid','from','to','CO','SRK_Leapfrog_litho','SRK_logging_litho','RQD_pc','brittle_deformation_intensity','ductile_deformation_intensity','global_alteration_intensity','sulphide_abundance','veining_abundance','planar_feature_type','alpha']]\n",
        "dataselected_raw.sample(5)"
      ]
    },
    {
      "cell_type": "markdown",
      "metadata": {
        "id": "_I_Nxqe0ejNX"
      },
      "source": [
        "J) Select only the data for the hole you logged from 'dataselected_raw' and assign them to the table/object named 'dataselected':"
      ]
    },
    {
      "cell_type": "code",
      "execution_count": null,
      "metadata": {
        "id": "xS9FrJdqejNX"
      },
      "outputs": [],
      "source": [
        "hole_selected = 'MCD18030'\n",
        "dataselected = dataselected_raw.loc[dataselected_raw['holeid'] == hole_selected, :]"
      ]
    },
    {
      "cell_type": "markdown",
      "metadata": {
        "id": "8hJhUXa4ejNX"
      },
      "source": [
        "    J.1) Display (for verification) the first 5 rows of the table/object 'dataselected' that will be used to plot the graphical log:"
      ]
    },
    {
      "cell_type": "code",
      "execution_count": null,
      "metadata": {
        "id": "pFlPmxnaejNX",
        "outputId": "561731b9-0668-4f7b-9e2f-7ebe4e4fdb38"
      },
      "outputs": [
        {
          "data": {
            "text/html": [
              "<div>\n",
              "<style scoped>\n",
              "    .dataframe tbody tr th:only-of-type {\n",
              "        vertical-align: middle;\n",
              "    }\n",
              "\n",
              "    .dataframe tbody tr th {\n",
              "        vertical-align: top;\n",
              "    }\n",
              "\n",
              "    .dataframe thead th {\n",
              "        text-align: right;\n",
              "    }\n",
              "</style>\n",
              "<table border=\"1\" class=\"dataframe\">\n",
              "  <thead>\n",
              "    <tr style=\"text-align: right;\">\n",
              "      <th></th>\n",
              "      <th>holeid</th>\n",
              "      <th>from</th>\n",
              "      <th>to</th>\n",
              "      <th>CO</th>\n",
              "      <th>SRK_Leapfrog_litho</th>\n",
              "      <th>SRK_logging_litho</th>\n",
              "      <th>RQD_pc</th>\n",
              "      <th>brittle_deformation_intensity</th>\n",
              "      <th>ductile_deformation_intensity</th>\n",
              "      <th>global_alteration_intensity</th>\n",
              "      <th>sulphide_abundance</th>\n",
              "      <th>veining_abundance</th>\n",
              "      <th>planar_feature_type</th>\n",
              "      <th>alpha</th>\n",
              "    </tr>\n",
              "  </thead>\n",
              "  <tbody>\n",
              "    <tr>\n",
              "      <th>7785</th>\n",
              "      <td>MCD18030</td>\n",
              "      <td>6.0</td>\n",
              "      <td>7.0</td>\n",
              "      <td>0.070</td>\n",
              "      <td>1</td>\n",
              "      <td>-1</td>\n",
              "      <td>0.0</td>\n",
              "      <td>NaN</td>\n",
              "      <td>NaN</td>\n",
              "      <td>NaN</td>\n",
              "      <td>NaN</td>\n",
              "      <td>NaN</td>\n",
              "      <td>NaN</td>\n",
              "      <td>NaN</td>\n",
              "    </tr>\n",
              "    <tr>\n",
              "      <th>7786</th>\n",
              "      <td>MCD18030</td>\n",
              "      <td>7.0</td>\n",
              "      <td>8.0</td>\n",
              "      <td>0.084</td>\n",
              "      <td>1</td>\n",
              "      <td>-1</td>\n",
              "      <td>0.0</td>\n",
              "      <td>NaN</td>\n",
              "      <td>NaN</td>\n",
              "      <td>NaN</td>\n",
              "      <td>NaN</td>\n",
              "      <td>NaN</td>\n",
              "      <td>NaN</td>\n",
              "      <td>NaN</td>\n",
              "    </tr>\n",
              "    <tr>\n",
              "      <th>7787</th>\n",
              "      <td>MCD18030</td>\n",
              "      <td>8.0</td>\n",
              "      <td>9.0</td>\n",
              "      <td>0.067</td>\n",
              "      <td>1</td>\n",
              "      <td>-1</td>\n",
              "      <td>0.0</td>\n",
              "      <td>NaN</td>\n",
              "      <td>NaN</td>\n",
              "      <td>NaN</td>\n",
              "      <td>NaN</td>\n",
              "      <td>NaN</td>\n",
              "      <td>NaN</td>\n",
              "      <td>NaN</td>\n",
              "    </tr>\n",
              "    <tr>\n",
              "      <th>7788</th>\n",
              "      <td>MCD18030</td>\n",
              "      <td>9.0</td>\n",
              "      <td>10.0</td>\n",
              "      <td>0.027</td>\n",
              "      <td>1</td>\n",
              "      <td>-1</td>\n",
              "      <td>0.0</td>\n",
              "      <td>NaN</td>\n",
              "      <td>NaN</td>\n",
              "      <td>NaN</td>\n",
              "      <td>NaN</td>\n",
              "      <td>NaN</td>\n",
              "      <td>NaN</td>\n",
              "      <td>NaN</td>\n",
              "    </tr>\n",
              "    <tr>\n",
              "      <th>7789</th>\n",
              "      <td>MCD18030</td>\n",
              "      <td>10.0</td>\n",
              "      <td>11.0</td>\n",
              "      <td>0.014</td>\n",
              "      <td>1</td>\n",
              "      <td>-1</td>\n",
              "      <td>0.0</td>\n",
              "      <td>NaN</td>\n",
              "      <td>NaN</td>\n",
              "      <td>NaN</td>\n",
              "      <td>NaN</td>\n",
              "      <td>NaN</td>\n",
              "      <td>NaN</td>\n",
              "      <td>NaN</td>\n",
              "    </tr>\n",
              "  </tbody>\n",
              "</table>\n",
              "</div>"
            ],
            "text/plain": [
              "        holeid  from    to     CO SRK_Leapfrog_litho SRK_logging_litho  \\\n",
              "7785  MCD18030   6.0   7.0  0.070                  1                -1   \n",
              "7786  MCD18030   7.0   8.0  0.084                  1                -1   \n",
              "7787  MCD18030   8.0   9.0  0.067                  1                -1   \n",
              "7788  MCD18030   9.0  10.0  0.027                  1                -1   \n",
              "7789  MCD18030  10.0  11.0  0.014                  1                -1   \n",
              "\n",
              "      RQD_pc  brittle_deformation_intensity  ductile_deformation_intensity  \\\n",
              "7785     0.0                            NaN                            NaN   \n",
              "7786     0.0                            NaN                            NaN   \n",
              "7787     0.0                            NaN                            NaN   \n",
              "7788     0.0                            NaN                            NaN   \n",
              "7789     0.0                            NaN                            NaN   \n",
              "\n",
              "      global_alteration_intensity  sulphide_abundance  veining_abundance  \\\n",
              "7785                          NaN                 NaN                NaN   \n",
              "7786                          NaN                 NaN                NaN   \n",
              "7787                          NaN                 NaN                NaN   \n",
              "7788                          NaN                 NaN                NaN   \n",
              "7789                          NaN                 NaN                NaN   \n",
              "\n",
              "     planar_feature_type  alpha  \n",
              "7785                 NaN    NaN  \n",
              "7786                 NaN    NaN  \n",
              "7787                 NaN    NaN  \n",
              "7788                 NaN    NaN  \n",
              "7789                 NaN    NaN  "
            ]
          },
          "execution_count": 19,
          "metadata": {},
          "output_type": "execute_result"
        }
      ],
      "source": [
        "dataselected.head(5)"
      ]
    },
    {
      "cell_type": "markdown",
      "metadata": {
        "id": "g_lJeV0LejNX"
      },
      "source": [
        "K) Creating the graphical plot:"
      ]
    },
    {
      "cell_type": "markdown",
      "metadata": {
        "id": "esFMLUBEejNX"
      },
      "source": [
        "    K.1) Calculate the maximum depth of the selected hole and assign it to the object called 'max_depth' for later use. It is also printed for verification:"
      ]
    },
    {
      "cell_type": "code",
      "execution_count": null,
      "metadata": {
        "scrolled": true,
        "id": "bB2zY7_0ejNX",
        "outputId": "725bc34b-ed0e-42e5-9a2d-bf8816543780"
      },
      "outputs": [
        {
          "name": "stdout",
          "output_type": "stream",
          "text": [
            "Max depth is =  165.0\n"
          ]
        }
      ],
      "source": [
        "max_depth_id = dataselected['to'].idxmax()\n",
        "max_depth = dataselected.loc[max_depth_id, 'to']\n",
        "print('Max depth is = ', max_depth)"
      ]
    },
    {
      "cell_type": "markdown",
      "metadata": {
        "id": "wy37XjnGejNX"
      },
      "source": [
        "    K.2) Define the x axis as the column 'to' and the number of subplots you want (defined by the number of variables you want to display in your graphical log):"
      ]
    },
    {
      "cell_type": "code",
      "execution_count": null,
      "metadata": {
        "id": "Jv3g24aCejNY"
      },
      "outputs": [],
      "source": [
        "x = dataselected.loc[:, 'to']\n",
        "\n",
        "number_of_subplots = 8"
      ]
    },
    {
      "cell_type": "markdown",
      "metadata": {
        "id": "3Ni6bfULejNY"
      },
      "source": [
        "    K.3) Define the variables you want to plot. In this example the lithologies extracted from Leapfrog (assigned to the variable y1) and the ones logged by SRK (y1b) will be superposed on the same subplot/diagram for easier comparison:"
      ]
    },
    {
      "cell_type": "code",
      "execution_count": null,
      "metadata": {
        "id": "jnFCQBLzejNY"
      },
      "outputs": [],
      "source": [
        "y = dataselected.loc[:, 'CO']\n",
        "y1 = dataselected.loc[:, 'SRK_Leapfrog_litho'].astype(float)\n",
        "y1b = dataselected.loc[:, 'SRK_logging_litho'].astype(float)\n",
        "y2 = dataselected.loc[:, 'RQD_pc']\n",
        "y3 = dataselected.loc[:, 'brittle_deformation_intensity']\n",
        "y4 = dataselected.loc[:, 'ductile_deformation_intensity']\n",
        "y5 = dataselected.loc[:, 'global_alteration_intensity']\n",
        "y6 = dataselected.loc[:, 'sulphide_abundance']\n",
        "y7 = dataselected.loc[:, 'veining_abundance']"
      ]
    },
    {
      "cell_type": "markdown",
      "metadata": {
        "id": "vaqcYm3XejNY"
      },
      "source": [
        "    K.4) Define the number of rows (= number_of_subplots; 8 here), number of columns (1 here), and the subplots/diagrams size (in inches?):\n",
        "    \n",
        "    K.5) Define what variables to use to plot each subplot/diagram (typically x and one of the y defined above, but you can display other things). As you may guess, each subplot/diagram is designated by axs[i] with i from 0 (for the first one) to any number of subplots/diagrams you want.\n",
        "    \n",
        "    In this example the subplots/diagrams for (x,y1) and (x,y1b) are superposed, one filled (x,y1), the other not (x,y1b). You can define personnalized colors for each plot by modyfing the color name, as long as you keep matplotlib standards (https://matplotlib.org/examples/color/named_colors.html). The alpha value is for transparency:\n",
        "    \n",
        "    K.6) Add a label for each subplot/diagram and choose the minimum and maximum range for each subplot/diagram ordinate axis. For the lithologies, make sure the group numbers assigned at the beginning correspond to the right lithology:\n",
        "    \n",
        "    K.7) Make sure each subplot/diagram has the same range in abscissa (from 0 to 'max_depth' + 1 meter) and add a grid to all subplots/diagrams:\n",
        "    \n",
        "    K.8) Plot the final result of your graphical log with the holeid as title:"
      ]
    },
    {
      "cell_type": "code",
      "execution_count": null,
      "metadata": {
        "scrolled": false,
        "id": "5hU-s-cWejNY",
        "outputId": "b4f20eeb-a2e9-4003-9383-8f6716a9f531"
      },
      "outputs": [
        {
          "data": {
            "image/png": "[encoded data removed]",
            "text/plain": [
              "<Figure size 1440x2160 with 8 Axes>"
            ]
          },
          "metadata": {
            "needs_background": "light"
          },
          "output_type": "display_data"
        }
      ],
      "source": [
        "fig, axs = plt.subplots(number_of_subplots, 1, figsize = (20,30))\n",
        "\n",
        "#________________________________________________________________________\n",
        "\n",
        "axs[0].step(x, y, color= 'red')\n",
        "axs[0].fill_between(x, y, step=\"pre\", color= 'red', alpha=0.4)\n",
        "\n",
        "axs[1].step(x, y1, color= 'grey')\n",
        "axs[1].fill_between(x, y1, step=\"pre\", color= 'grey', alpha=0.4)\n",
        "axs[1].step(x, y1b, color= 'black')\n",
        "\n",
        "axs[2].step(x, y2, color= 'blue')\n",
        "axs[2].fill_between(x, y2, step=\"pre\", color= 'blue', alpha=0.4)\n",
        "\n",
        "axs[3].step(x, y3, color= 'royalblue')\n",
        "axs[3].fill_between(x, y3, step=\"pre\", color= 'royalblue', alpha=0.4)\n",
        "\n",
        "axs[4].step(x, y4, color= 'deepskyblue')\n",
        "axs[4].fill_between(x, y4, step=\"pre\", color= 'deepskyblue', alpha=0.4)\n",
        "\n",
        "axs[5].step(x, y5, color= 'lime')\n",
        "axs[5].fill_between(x, y5, step=\"pre\", color= 'lime', alpha=0.4)\n",
        "\n",
        "axs[6].step(x, y6, color= 'green')\n",
        "axs[6].fill_between(x, y6, step=\"pre\", color= 'green', alpha=0.4)\n",
        "\n",
        "axs[7].step(x, y7, color= 'magenta')\n",
        "axs[7].fill_between(x, y7, step=\"pre\", color= 'magenta', alpha=0.4)\n",
        "\n",
        "#________________________________________________________________________\n",
        "\n",
        "axs[0].set(xlabel='', ylabel='Co (%)', title='')\n",
        "\n",
        "axs[1].set(xlabel='', ylabel='Lithology', title='')\n",
        "plt.sca(axs[1])\n",
        "y_litho_nb = [12,11,10,9,8,7,6,5,4,3,2,1]\n",
        "y_litho = ['12_overburden','11_breccia_vein','10_fault','9_diabase','8_felsic_dyke','7_fld_porphyry','6_olive_green_dyke',\n",
        "           '5_undif_dyke','4_shear_zone','3_massive_sulphide','2_metaseds','1_mafic_volcanic']\n",
        "plt.yticks(y_litho_nb, y_litho, color='black')\n",
        "\n",
        "axs[1].set_ylim(0, y_litho_nb[0])\n",
        "axs[1].legend(['Company_logging_simplified', 'SRK_logging'])\n",
        "\n",
        "axs[2].set(xlabel='', ylabel='RQD (pct)', title='')\n",
        "axs[2].set_ylim(0, 101)\n",
        "\n",
        "axs[3].set(xlabel='', ylabel='Brittle def. intensity', title='')\n",
        "axs[3].set_ylim(0, 3.5)\n",
        "\n",
        "axs[4].set(xlabel='', ylabel='Ductile def. intensity', title='')\n",
        "axs[4].set_ylim(0, 3.5)\n",
        "\n",
        "axs[5].set(xlabel='', ylabel='Alteration intensity', title='')\n",
        "axs[5].set_ylim(0, 3.5)\n",
        "\n",
        "axs[6].set(xlabel='', ylabel='Sulphide content', title='')\n",
        "axs[6].set_ylim(0, 3.5)\n",
        "\n",
        "axs[7].set(xlabel='', ylabel='Vein content', title='')\n",
        "axs[7].set_ylim(0, 3.5)\n",
        "\n",
        "#________________________________________________________________________\n",
        "\n",
        "for i in range(0, number_of_subplots, 1):    #(start, stop, step size)\n",
        "    axs[i].set_xlim(0, max_depth+1)\n",
        "    axs[i].grid()\n",
        "\n",
        "#________________________________________________________________________\n",
        "\n",
        "plt.suptitle(hole_selected)\n",
        "plt.show()"
      ]
    },
    {
      "cell_type": "markdown",
      "metadata": {
        "id": "JPCFN057ejNZ"
      },
      "source": [
        "L) Saves the figure as a .PNG image:"
      ]
    },
    {
      "cell_type": "code",
      "execution_count": null,
      "metadata": {
        "id": "fSjfD5PGejNZ"
      },
      "outputs": [],
      "source": [
        "figure = axs[1].get_figure()\n",
        "figure.savefig(\"{}.png\".format(hole_selected))"
      ]
    }
  ],
  "metadata": {
    "kernelspec": {
      "display_name": "Python 3",
      "language": "python",
      "name": "python3"
    },
    "language_info": {
      "codemirror_mode": {
        "name": "ipython",
        "version": 3
      },
      "file_extension": ".py",
      "mimetype": "text/x-python",
      "name": "python",
      "nbconvert_exporter": "python",
      "pygments_lexer": "ipython3",
      "version": "3.6.6"
    },
    "colab": {
      "provenance": [],
      "include_colab_link": true
    }
  },
  "nbformat": 4,
  "nbformat_minor": 0
}