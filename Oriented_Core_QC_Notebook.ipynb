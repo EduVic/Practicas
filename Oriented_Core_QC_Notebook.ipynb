{
 "cells": [
  {
   "cell_type": "markdown",
   "metadata": {},
   "source": [
    "# Quick borehole structural measurement QC reports\n",
    "\n",
    "This Notebook aims at quickly producing a graphic report per borehole to help with the evaluation of the confidence level of structural data collected on oriented core.\n",
    "Click on a cell and type Shift + Enter to launch it. Launch cells in order.\n",
    "\n",
    "## 1) Importing all the tools that are used in the Notebook\n",
    "\n",
    "Do not forget to have the Oriented_Core_QC.py file in the same directory as this Notebook.\n",
    "Launch the cell."
   ]
  },
  {
   "cell_type": "code",
   "execution_count": null,
   "metadata": {},
   "outputs": [],
   "source": [
    "import matplotlib.pyplot as plt\n",
    "import seaborn as sns\n",
    "import mplstereonet\n",
    "import numpy as np\n",
    "import pandas as pd\n",
    "import matplotlib.gridspec as gridspec\n",
    "from Oriented_Core_QC import Downhole_Structural_Data\n",
    "\n",
    "pd.set_option('display.max_rows', 500)\n",
    "\n",
    "%matplotlib inline"
   ]
  },
  {
   "cell_type": "markdown",
   "metadata": {},
   "source": [
    "## 2) Opening the structural database\n",
    "\n",
    "Type the name of the csv files for structural measurements, survey and collar data. The files need to be in the same directory as the Notebook.\n",
    "Then launch the cells."
   ]
  },
  {
   "cell_type": "code",
   "execution_count": null,
   "metadata": {},
   "outputs": [],
   "source": [
    "df = pd.read_csv('Bannockburn_StructuralData.csv') #Replace name in between ''\n",
    "df.head()"
   ]
  },
  {
   "cell_type": "code",
   "execution_count": null,
   "metadata": {},
   "outputs": [],
   "source": [
    "survey = pd.read_csv('survey.csv') #Replace name in between ''\n",
    "survey.head()"
   ]
  },
  {
   "cell_type": "code",
   "execution_count": null,
   "metadata": {
    "scrolled": true
   },
   "outputs": [],
   "source": [
    "collar = pd.read_csv('collar.csv') #Replace name in between ''\n",
    "collar.head()"
   ]
  },
  {
   "cell_type": "markdown",
   "metadata": {},
   "source": [
    "Note that the convention used is that positive dip angles are downward for structural measurements and negative dip angles are downward for holes orientation.\n",
    "\n",
    "\n",
    "\n",
    "## 3) Indicating columns names\n",
    "\n",
    "Replace the names in red (in between the '') by the real column names in the csv files. dfXXX corresponds to columns in the structural measurement file, collar to the collar file and survey to the survey file.\n",
    "Then launch the cell."
   ]
  },
  {
   "cell_type": "code",
   "execution_count": null,
   "metadata": {},
   "outputs": [],
   "source": [
    "df_Hole_ID = 'HoleID'\n",
    "df_Depth = 'Depth'\n",
    "df_Dip = 'Dip'\n",
    "df_DipDir = 'Dip Direction'\n",
    "df_Type = 'Structure_Type'\n",
    "df_Alpha = 'AlphaAngle'\n",
    "df_Beta = 'BetaAngle'\n",
    "\n",
    "collar_Hole_ID = 'HoleID'\n",
    "\n",
    "survey_Hole_ID = 'HoleID'\n",
    "survey_Depth = 'Distance'\n",
    "survey_Dip = 'Dip'\n",
    "survey_DipDir = 'Azimuth'"
   ]
  },
  {
   "cell_type": "markdown",
   "metadata": {},
   "source": [
    "## 4) Integrating all the data together\n",
    "\n",
    "Just launch the cell."
   ]
  },
  {
   "cell_type": "code",
   "execution_count": null,
   "metadata": {},
   "outputs": [],
   "source": [
    "project = Downhole_Structural_Data (df = df, df_Hole_ID = df_Hole_ID, df_Depth = df_Depth, df_Dip = df_Dip,\n",
    "                                    df_DipDir = df_DipDir, df_Type = df_Type, df_Alpha = df_Alpha,\n",
    "                                    df_Beta = df_Beta, collar = collar, collar_Hole_ID = collar_Hole_ID,\n",
    "                                    survey = survey, survey_Hole_ID = survey_Hole_ID, survey_Depth = survey_Depth, \n",
    "                                    survey_Dip = survey_Dip, survey_DipDir = survey_DipDir)"
   ]
  },
  {
   "cell_type": "markdown",
   "metadata": {},
   "source": [
    "## 5) Creating the reports\n",
    "\n",
    "Indicate the category you want to make the report about (which type of structure is constant enough to be used to evaluate data confidence along boreholes) by replacing the red writing in between ''. If you do not want a specific category, just remove \"category='Fracture_1',\" in the code (do not forget the comma).\n",
    "If you want to save the reports as png images, indicate save=True. If not, indicate save=False.\n",
    "Then launch the cell."
   ]
  },
  {
   "cell_type": "code",
   "execution_count": null,
   "metadata": {
    "scrolled": false
   },
   "outputs": [],
   "source": [
    "project.create_report(category=None, save=False)"
   ]
  },
  {
   "cell_type": "markdown",
   "metadata": {},
   "source": [
    "Other methods are available if you want to produce only one of the figures, or a different report. Just look at the code in Oriented_Core_QC.py or ask Antoine (acate@srk.com). Some of the other functions might not be up to date."
   ]
  },
  {
   "cell_type": "code",
   "execution_count": null,
   "metadata": {},
   "outputs": [],
   "source": []
  }
 ],
 "metadata": {
  "kernelspec": {
   "display_name": "Python 3",
   "language": "python",
   "name": "python3"
  },
  "language_info": {
   "codemirror_mode": {
    "name": "ipython",
    "version": 3
   },
   "file_extension": ".py",
   "mimetype": "text/x-python",
   "name": "python",
   "nbconvert_exporter": "python",
   "pygments_lexer": "ipython3",
   "version": "3.7.4"
  }
 },
 "nbformat": 4,
 "nbformat_minor": 2
}
